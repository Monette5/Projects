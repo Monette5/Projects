{
 "cells": [
  {
   "cell_type": "code",
   "execution_count": null,
   "metadata": {
    "collapsed": true,
    "run_control": {
     "read_only": false
    }
   },
   "outputs": [],
   "source": [
    "import pymongo\n",
    "import datetime\n",
    "import collections\n",
    "from numpy import nan as NA\n",
    "import matplotlib as mpl\n",
    "import matplotlib.pyplot as plt\n",
    "%matplotlib inline\n",
    "import seaborn as sns\n",
    "import folium\n",
    "import numpy as np\n",
    "import pandas as pd\n",
    "import scipy.stats"
   ]
  },
  {
   "cell_type": "markdown",
   "metadata": {},
   "source": [
    "**** Reading in the first five rows of data/HibernationSurveyObservationsCleaned.csv using the head() command\n",
    "to view the type of data and to get a feel for the dataset.I had initially used the uncleaned version so some of my \n",
    "work in the cells below was based on cleaning. Please ignore these cells. ****"
   ]
  },
  {
   "cell_type": "code",
   "execution_count": null,
   "metadata": {
    "code_folding": [],
    "collapsed": false,
    "run_control": {
     "read_only": false
    }
   },
   "outputs": [],
   "source": [
    "#Reading in the first five rows of data using the head() command to view the type of data and to get a feel for the dataset.\n",
    "#hib_df = pd.read_csv('data/HibernationSurveyObservations.csv')\n",
    "#hib_df.head()\n",
    "hib_df = pd.read_csv('data/HibernationSurveyObservationsCleaned.csv')\n",
    "hib_df.head()"
   ]
  },
  {
   "cell_type": "code",
   "execution_count": null,
   "metadata": {
    "collapsed": false,
    "run_control": {
     "read_only": false
    }
   },
   "outputs": [],
   "source": [
    "len(hib_df)"
   ]
  },
  {
   "cell_type": "markdown",
   "metadata": {},
   "source": [
    "**** Checking the length of the dataframe and comparing it to the counts available from the NBMP website where the data was\n",
    "obtained, I have made the assumption that each row acts as a single count, ie. a single bat.****"
   ]
  },
  {
   "cell_type": "code",
   "execution_count": null,
   "metadata": {
    "collapsed": false,
    "run_control": {
     "read_only": false
    }
   },
   "outputs": [],
   "source": [
    "len(hib_df['recordKey'])"
   ]
  },
  {
   "cell_type": "code",
   "execution_count": null,
   "metadata": {
    "collapsed": false,
    "run_control": {
     "read_only": false
    }
   },
   "outputs": [],
   "source": [
    "hib_df.columns"
   ]
  },
  {
   "cell_type": "markdown",
   "metadata": {},
   "source": [
    "**** The columns in the dataframe provide a feel for the types of data ****"
   ]
  },
  {
   "cell_type": "code",
   "execution_count": null,
   "metadata": {
    "collapsed": false,
    "run_control": {
     "read_only": false
    }
   },
   "outputs": [],
   "source": [
    "#checking the names to find columns of interest to use unique.\n",
    "hib_df.columns"
   ]
  },
  {
   "cell_type": "markdown",
   "metadata": {},
   "source": [
    "****Checking data types****"
   ]
  },
  {
   "cell_type": "code",
   "execution_count": null,
   "metadata": {
    "collapsed": false,
    "run_control": {
     "read_only": false
    }
   },
   "outputs": [],
   "source": [
    "hib_df.dtypes"
   ]
  },
  {
   "cell_type": "markdown",
   "metadata": {},
   "source": [
    "****The recordKey seems to correspond to numbers of bats because it has the same length as the dataframe, so looking \n",
    "at it more closely****"
   ]
  },
  {
   "cell_type": "code",
   "execution_count": null,
   "metadata": {
    "collapsed": false,
    "run_control": {
     "read_only": false
    }
   },
   "outputs": [],
   "source": [
    "hib_df.recordKey.describe()\n",
    "#An overview of the numerical data."
   ]
  },
  {
   "cell_type": "code",
   "execution_count": null,
   "metadata": {
    "collapsed": false,
    "run_control": {
     "read_only": false
    }
   },
   "outputs": [],
   "source": [
    "hib_df.featureKey.describe()"
   ]
  },
  {
   "cell_type": "markdown",
   "metadata": {},
   "source": [
    "****It would seem that each row of the dataframe represents one bat count, because teh numerical values above are the same \n",
    "for featureKey and recordKey****"
   ]
  },
  {
   "cell_type": "code",
   "execution_count": null,
   "metadata": {
    "collapsed": false,
    "run_control": {
     "read_only": false
    }
   },
   "outputs": [],
   "source": [
    "#beginning converting the grid references to latitude and longitude to plot on a map\n",
    "refs = []\n",
    "for v in hib_df['gridReference']:\n",
    "    if v not in refs:\n",
    "        refs.append(v)\n",
    "print(refs)"
   ]
  },
  {
   "cell_type": "markdown",
   "metadata": {},
   "source": [
    "****The purpose of this was to convert the values so that they could be plotted on a map. I converted them using the notebook \n",
    "grid-refs-to-lat-lon.ipynb and then copied them into a spreadsheet data/latlong.csv****"
   ]
  },
  {
   "cell_type": "code",
   "execution_count": null,
   "metadata": {
    "collapsed": false,
    "run_control": {
     "read_only": false
    }
   },
   "outputs": [],
   "source": [
    "%run 'grid-refs-to-lat-lon.ipynb'\n",
    "to_osgb36(refs)\n",
    "#Using the grid-refs-to-lat-lon.ipynb notebook to convert the grid refs to latitude and longitude."
   ]
  },
  {
   "cell_type": "markdown",
   "metadata": {},
   "source": [
    "**** The count values for the observationID, recordKey, featureKey are consistent with the rows in the table\n",
    "which implies that as described earlier, the records or rows are the count of the bats.****"
   ]
  },
  {
   "cell_type": "code",
   "execution_count": null,
   "metadata": {
    "collapsed": false,
    "run_control": {
     "read_only": false
    }
   },
   "outputs": [],
   "source": [
    "#This is not workable and will only be performed on the columns of interest\n",
    "unique_values = pd.unique(hib_df.values.ravel())\n",
    "len(unique_values)"
   ]
  },
  {
   "cell_type": "code",
   "execution_count": null,
   "metadata": {
    "collapsed": false,
    "run_control": {
     "read_only": false
    }
   },
   "outputs": [],
   "source": [
    "pd.unique(hib_df['commonName'])"
   ]
  },
  {
   "cell_type": "markdown",
   "metadata": {},
   "source": [
    "****The bat names are consistent with the report provided - NBMP_Summary_2013_web.pdf****"
   ]
  },
  {
   "cell_type": "code",
   "execution_count": null,
   "metadata": {
    "collapsed": false,
    "run_control": {
     "read_only": false
    }
   },
   "outputs": [],
   "source": [
    "#groupeddata = hib_df.groupby(['organisationName'])\n",
    "groupeddata = hib_df.groupby(['commonName'])\n",
    "grouped = groupeddata['commonName'].aggregate('count')\n",
    "groupeddata.size()\n",
    "#experimenting with grouping to try to get a sutable format"
   ]
  },
  {
   "cell_type": "markdown",
   "metadata": {},
   "source": [
    "****This plot looks good for the amount of bats over the whole period covered by the data****"
   ]
  },
  {
   "cell_type": "code",
   "execution_count": null,
   "metadata": {
    "collapsed": false,
    "run_control": {
     "read_only": false
    }
   },
   "outputs": [],
   "source": [
    "totals = groupeddata.sum()\n",
    "grouped.plot(kind='bar')"
   ]
  },
  {
   "cell_type": "code",
   "execution_count": null,
   "metadata": {
    "collapsed": false,
    "run_control": {
     "read_only": false
    }
   },
   "outputs": [],
   "source": [
    "#Checking to see if startDate and endDate are to be converted to date format\n",
    "hib_df.dtypes"
   ]
  },
  {
   "cell_type": "markdown",
   "metadata": {},
   "source": [
    "****The dates are in object format so need to be converted****"
   ]
  },
  {
   "cell_type": "code",
   "execution_count": null,
   "metadata": {
    "collapsed": false,
    "run_control": {
     "read_only": false
    }
   },
   "outputs": [],
   "source": [
    "#Checking how far through 2014 the data goes\n",
    "hib_df[hib_df['startDate'].str.contains('2014')]"
   ]
  },
  {
   "cell_type": "markdown",
   "metadata": {},
   "source": [
    "****The data for 2014 only goes as far as February so this cannot be analysed in comparison with earlier years\n",
    "However it explains why there is a disparity in the listed numbers on the NBN Gateway site and my analysis.****"
   ]
  },
  {
   "cell_type": "code",
   "execution_count": null,
   "metadata": {
    "collapsed": false,
    "run_control": {
     "read_only": false
    }
   },
   "outputs": [],
   "source": [
    "#They are object format so need to be converted\n",
    "hib_df['endDate'] = pd.to_datetime(hib_df['endDate'])"
   ]
  },
  {
   "cell_type": "code",
   "execution_count": null,
   "metadata": {
    "collapsed": true,
    "run_control": {
     "read_only": false
    }
   },
   "outputs": [],
   "source": [
    "#They are object format so need to be converted\n",
    "hib_df['startDate'] = pd.to_datetime(hib_df['startDate'])"
   ]
  },
  {
   "cell_type": "code",
   "execution_count": null,
   "metadata": {
    "collapsed": false,
    "run_control": {
     "read_only": false
    }
   },
   "outputs": [],
   "source": [
    "#Retrieving the minimum year\n",
    "startYear = hib_df['startDate'].dt.year\n",
    "minYear = startYear.min()\n",
    "minYear"
   ]
  },
  {
   "cell_type": "markdown",
   "metadata": {},
   "source": [
    "****The earliest date in the dataset is 1964****"
   ]
  },
  {
   "cell_type": "code",
   "execution_count": null,
   "metadata": {
    "collapsed": false,
    "run_control": {
     "read_only": false
    }
   },
   "outputs": [],
   "source": [
    "#Retrieving the maximum year\n",
    "endYear = hib_df['endDate'].dt.year\n",
    "maxYear = endYear.max()\n",
    "maxYear"
   ]
  },
  {
   "cell_type": "markdown",
   "metadata": {},
   "source": [
    "****The latest date in the dataset is 2014 (February)****"
   ]
  },
  {
   "cell_type": "code",
   "execution_count": null,
   "metadata": {
    "collapsed": false,
    "run_control": {
     "read_only": false
    }
   },
   "outputs": [],
   "source": [
    "#Checking that startDate and endDate are equal(they are so the column will now be date)\n",
    "daterange = hib_df['endDate'] - hib_df['startDate']\n",
    "daterange.unique()"
   ]
  },
  {
   "cell_type": "markdown",
   "metadata": {},
   "source": [
    "Getting a count of the bat types below"
   ]
  },
  {
   "cell_type": "code",
   "execution_count": null,
   "metadata": {
    "collapsed": false,
    "run_control": {
     "read_only": false
    }
   },
   "outputs": [],
   "source": [
    "bat_df = hib_df[['commonName','startDate']]\n",
    "pivoted = bat_df.pivot_table(index=['commonName'], aggfunc='count')\n",
    "pivoted.reset_index('startDate',inplace=True)\n",
    "pivoted = pivoted.rename(columns = {'startDate' : 'count'})\n",
    "pivoted.head()"
   ]
  },
  {
   "cell_type": "markdown",
   "metadata": {},
   "source": [
    "****Graphing bat counts over time to get a picture of general trends****"
   ]
  },
  {
   "cell_type": "code",
   "execution_count": null,
   "metadata": {
    "collapsed": false,
    "run_control": {
     "read_only": false
    }
   },
   "outputs": [],
   "source": [
    "hib_df.commonName.value_counts()"
   ]
  },
  {
   "cell_type": "code",
   "execution_count": null,
   "metadata": {
    "collapsed": true,
    "run_control": {
     "read_only": false
    }
   },
   "outputs": [],
   "source": [
    "new_df = hib_df.copy()\n",
    "#Making a copy of the dataframe to keep the previous analysis intact."
   ]
  },
  {
   "cell_type": "markdown",
   "metadata": {},
   "source": [
    "****Making a copy of the dataframe to keep the previous analysis intact, adding the Counts column and extracting year.\n",
    "This will be the format which will provide most of the rest of the analysis, based on the information it provides \n",
    "on the counts of bats over time.****"
   ]
  },
  {
   "cell_type": "code",
   "execution_count": null,
   "metadata": {
    "collapsed": false,
    "run_control": {
     "read_only": false
    }
   },
   "outputs": [],
   "source": [
    "new_df = new_df[['commonName','startDate']]\n",
    "new_df['Count'] = new_df['startDate'].map(new_df.groupby(['startDate'])['commonName'].unique().apply(len))\n",
    "new_df = new_df.rename(columns={'startDate': 'years'})\n",
    "new_df['years'] = new_df.years.dt.year#changed to years\n",
    "#created a new dataframe with selected columns in order to show the relevant data to see the bat counts over time.\n",
    "new_df.head()"
   ]
  },
  {
   "cell_type": "code",
   "execution_count": null,
   "metadata": {
    "collapsed": false,
    "run_control": {
     "read_only": false
    }
   },
   "outputs": [],
   "source": [
    "new_year = new_df.groupby(['years'])"
   ]
  },
  {
   "cell_type": "code",
   "execution_count": null,
   "metadata": {
    "collapsed": true,
    "run_control": {
     "read_only": false
    }
   },
   "outputs": [],
   "source": [
    "new_year_totals = new_year.sum()"
   ]
  },
  {
   "cell_type": "markdown",
   "metadata": {},
   "source": [
    "****The cells above and below show the total bat count over the time period****"
   ]
  },
  {
   "cell_type": "code",
   "execution_count": null,
   "metadata": {
    "collapsed": false,
    "run_control": {
     "read_only": false
    }
   },
   "outputs": [],
   "source": [
    "new_year_totals.plot()"
   ]
  },
  {
   "cell_type": "code",
   "execution_count": null,
   "metadata": {
    "collapsed": true,
    "run_control": {
     "read_only": false
    }
   },
   "outputs": [],
   "source": []
  },
  {
   "cell_type": "code",
   "execution_count": null,
   "metadata": {
    "collapsed": false,
    "run_control": {
     "read_only": false
    }
   },
   "outputs": [],
   "source": [
    "new_year_types = new_df.groupby(['years','commonName'])['Count'].sum()"
   ]
  },
  {
   "cell_type": "code",
   "execution_count": null,
   "metadata": {
    "collapsed": false,
    "run_control": {
     "read_only": false
    }
   },
   "outputs": [],
   "source": [
    "new_year_types.unstack()"
   ]
  },
  {
   "cell_type": "markdown",
   "metadata": {},
   "source": [
    "****Total bat counts over time****"
   ]
  },
  {
   "cell_type": "code",
   "execution_count": null,
   "metadata": {
    "collapsed": false,
    "run_control": {
     "read_only": false
    }
   },
   "outputs": [],
   "source": [
    "plot_new_year_types = new_year_types.unstack().plot(figsize=(10,8))\n",
    "plt.title('Bat Population of the UK over time, by decade', fontsize=20, color='Blue')\n",
    "plt.xlabel('Years by decade')\n",
    "plt.ylabel('Total Count')"
   ]
  },
  {
   "cell_type": "markdown",
   "metadata": {},
   "source": [
    "****I have plotted similar information below, but the above looked tidier. I have left mine in though, because I might use \n",
    "some of it later****"
   ]
  },
  {
   "cell_type": "code",
   "execution_count": null,
   "metadata": {
    "collapsed": false,
    "run_control": {
     "read_only": false
    }
   },
   "outputs": [],
   "source": [
    "#Looking at the population of the common name Lesser Noctule over time because this was a small value on the total count.\n",
    "bat = new_df[new_df['commonName']=='Lesser Noctule']\n",
    "grp = bat.groupby('years').apply(lambda x: x['commonName'].value_counts()).unstack().fillna(0)\n",
    "grp.head()"
   ]
  },
  {
   "cell_type": "markdown",
   "metadata": {},
   "source": [
    "****Looking at the population of the common name Lesser Noctule over time because this was a small value on the total count****"
   ]
  },
  {
   "cell_type": "code",
   "execution_count": null,
   "metadata": {
    "collapsed": false,
    "run_control": {
     "read_only": false
    }
   },
   "outputs": [],
   "source": [
    "#Grouping as a dataframe\n",
    "b = bat.groupby(['years', 'commonName'])[['Count']].sum()\n",
    "bs = b.reset_index()\n",
    "bs.head()"
   ]
  },
  {
   "cell_type": "markdown",
   "metadata": {},
   "source": [
    "****Grouping and plotting Lesser Noctule to get a clearer view of populations****"
   ]
  },
  {
   "cell_type": "code",
   "execution_count": null,
   "metadata": {
    "collapsed": false,
    "run_control": {
     "read_only": false
    }
   },
   "outputs": [],
   "source": [
    "bs.plot(x='years', kind='bar', figsize=(8,6))\n",
    "plt.title('Common Name \"Lesser Noctule\"', fontsize=15, color='Blue')\n",
    "plt.xlabel('Years')\n",
    "plt.ylabel('Total Count')\n",
    "#Lesser Noctule (commonName) numbers over time."
   ]
  },
  {
   "cell_type": "code",
   "execution_count": null,
   "metadata": {
    "collapsed": false,
    "run_control": {
     "read_only": false
    }
   },
   "outputs": [],
   "source": [
    "#Using pivot to reorder to plot without specifying the axis\n",
    "bats = bs.pivot(index='years', columns='commonName').fillna(0)\n",
    "bats.head()"
   ]
  },
  {
   "cell_type": "code",
   "execution_count": null,
   "metadata": {
    "collapsed": false,
    "run_control": {
     "read_only": false
    }
   },
   "outputs": [],
   "source": [
    "bats.plot(kind='bar', figsize=(10,10))\n",
    "plt.title('Common Name \"Lesser Noctule\"', fontsize=20, color='Red')\n",
    "plt.xlabel('Years')\n",
    "plt.ylabel('Total Count')\n",
    "#bat.plot(x=['years'], y=['Count'])"
   ]
  },
  {
   "cell_type": "markdown",
   "metadata": {},
   "source": [
    "****Looks the same with both methods, no advantage to either***"
   ]
  },
  {
   "cell_type": "code",
   "execution_count": null,
   "metadata": {
    "collapsed": false,
    "run_control": {
     "read_only": false
    }
   },
   "outputs": [],
   "source": [
    "#Looking at the population of the common name Natterer's Bat over time.\n",
    "natbat = new_df[new_df['commonName']=='Natterer\\'s Bat']\n",
    "#g = natbat.groupby('years').apply(lambda x: x['commonName'].value_counts()).unstack().fillna(0)\n",
    "#g.head()"
   ]
  },
  {
   "cell_type": "markdown",
   "metadata": {},
   "source": [
    "****Natterers bat is on the other end of the scale with high values, so plotting this one now****"
   ]
  },
  {
   "cell_type": "code",
   "execution_count": null,
   "metadata": {
    "collapsed": false,
    "run_control": {
     "read_only": false
    }
   },
   "outputs": [],
   "source": [
    "#Grouping by years and commonName\n",
    "nb = natbat.groupby(['years', 'commonName'])[['Count']].sum()\n",
    "bn = nb.reset_index()\n",
    "bn.head()"
   ]
  },
  {
   "cell_type": "code",
   "execution_count": null,
   "metadata": {
    "collapsed": false,
    "run_control": {
     "read_only": false
    }
   },
   "outputs": [],
   "source": [
    "#Pivot to reorder as before\n",
    "batnat = bn.pivot(index='years', columns='commonName').fillna(0)\n",
    "batnat.head()"
   ]
  },
  {
   "cell_type": "code",
   "execution_count": null,
   "metadata": {
    "collapsed": false,
    "run_control": {
     "read_only": false
    }
   },
   "outputs": [],
   "source": [
    "#Plotting pivot because no need to specify axis\n",
    "batnat.plot(kind='bar', figsize=(10,8))\n",
    "plt.title('Common Name \"Natterer\\'s Bat\"', fontsize=10, color='Blue')\n",
    "plt.xlabel('Years')\n",
    "plt.ylabel('Total Count')"
   ]
  },
  {
   "cell_type": "markdown",
   "metadata": {},
   "source": [
    "****The large increases in later years look to be due to better collection and recording, however it looks like populations are\n",
    "improving again after a dip, although because 2014 is incomplete this is ignored****"
   ]
  },
  {
   "cell_type": "code",
   "execution_count": null,
   "metadata": {
    "collapsed": false,
    "run_control": {
     "read_only": false
    }
   },
   "outputs": [],
   "source": [
    "cross = new_df.copy"
   ]
  },
  {
   "cell_type": "markdown",
   "metadata": {},
   "source": [
    "****This shows the same trends as above****"
   ]
  },
  {
   "cell_type": "code",
   "execution_count": null,
   "metadata": {
    "collapsed": false,
    "run_control": {
     "read_only": false
    }
   },
   "outputs": [],
   "source": [
    "stuff = pd.crosstab(battiest['years'], battiest['Count'])\n",
    "crosstab_long = stuff.stack().reset_index()\n",
    "plt.scatter(crosstab_long['years'], \n",
    "            crosstab_long['Count'],\n",
    "            s=np.sqrt(crosstab_long[0])*1.5\n",
    "            )\n",
    "plt.show()"
   ]
  },
  {
   "cell_type": "code",
   "execution_count": null,
   "metadata": {
    "collapsed": false,
    "run_control": {
     "read_only": false
    }
   },
   "outputs": [],
   "source": [
    "# The crosstab has reshaped the DataFrame - there is now a row for each unique value in the commonNmae column \n",
    "#of the original table, and a column for each unique value in the years column of the original table.\n",
    "#At the intersection of each row and column there is the count of the number of times that row value and that column \n",
    "#value occur in the original table's rows.\n",
    "# The result is a table bats_df.\n",
    "bats_df = pd.crosstab(new_df['commonName'], new_df['years'], margins=True)\n",
    "#bats_df.reset_index()\n",
    "bats_df.head()"
   ]
  },
  {
   "cell_type": "markdown",
   "metadata": {},
   "source": [
    "****This format allows me to plot the whole dataset more easily and also to set the years by decade to produce a chart, which \n",
    "otherwise is quite overloaded. In the EMA I intend to separate the decades to plot where appropriate.****"
   ]
  },
  {
   "cell_type": "code",
   "execution_count": null,
   "metadata": {
    "collapsed": false,
    "run_control": {
     "read_only": false
    }
   },
   "outputs": [],
   "source": [
    "pivoted = new_df.pivot_table(index=['commonName', 'years', 'Count'], aggfunc=np.sum)\n",
    "pivoted.columns"
   ]
  },
  {
   "cell_type": "markdown",
   "metadata": {},
   "source": [
    "****Convering the years to decades to plot****"
   ]
  },
  {
   "cell_type": "code",
   "execution_count": null,
   "metadata": {
    "collapsed": true,
    "run_control": {
     "read_only": false
    }
   },
   "outputs": [],
   "source": [
    "#Adding functions to select years\n",
    "updated_bats = new_df.copy()\n",
    "#if pnl[company].tail(1)['Active'].any()==1:\n",
    "    #print 'yay'\n",
    "def select_decade(y):\n",
    "    for y in updated_bats.years:\n",
    "        if y.all() > 1960:\n",
    "            return years\n",
    "def floor_decade(y):\n",
    "    for y in updated_bats.years:\n",
    "        return (y // 10) * 10"
   ]
  },
  {
   "cell_type": "markdown",
   "metadata": {},
   "source": [
    "****Plotting decades****"
   ]
  },
  {
   "cell_type": "code",
   "execution_count": null,
   "metadata": {
    "collapsed": false,
    "run_control": {
     "read_only": false
    }
   },
   "outputs": [],
   "source": [
    "updated_bats['years'] = (updated_bats['years']// 10) * 10\n",
    "grouped = updated_bats.groupby(['years'])\n",
    "batter_df = grouped['commonName', 'Count'].sum()\n",
    "batter_df.plot.bar()"
   ]
  },
  {
   "cell_type": "markdown",
   "metadata": {},
   "source": [
    "****Grouping the dataframe by decade to tidy the data****"
   ]
  },
  {
   "cell_type": "code",
   "execution_count": null,
   "metadata": {
    "collapsed": false,
    "run_control": {
     "read_only": false
    },
    "scrolled": true
   },
   "outputs": [],
   "source": [
    "battier = updated_bats.groupby(['years', 'commonName'])[['Count']].sum()\n",
    "#battier.replace(np.nan, 0)\n",
    "battier"
   ]
  },
  {
   "cell_type": "code",
   "execution_count": null,
   "metadata": {
    "collapsed": false,
    "run_control": {
     "read_only": false
    }
   },
   "outputs": [],
   "source": [
    "battiest = battier.reset_index()\n",
    "battiest.head()\n",
    "\n",
    "#flattening the index to plot"
   ]
  },
  {
   "cell_type": "markdown",
   "metadata": {},
   "source": [
    "****Grouping by years and producing counts of name columns****"
   ]
  },
  {
   "cell_type": "code",
   "execution_count": null,
   "metadata": {
    "collapsed": false,
    "run_control": {
     "read_only": false
    }
   },
   "outputs": [],
   "source": [
    "counts = battiest.groupby('years').apply(lambda x: x['commonName'].value_counts()).unstack().fillna(0)\n",
    "counts            "
   ]
  },
  {
   "cell_type": "markdown",
   "metadata": {},
   "source": [
    "****Regrouping to plot the bats with a legend showing the individual species over the period****"
   ]
  },
  {
   "cell_type": "code",
   "execution_count": null,
   "metadata": {
    "collapsed": false,
    "run_control": {
     "read_only": false
    }
   },
   "outputs": [],
   "source": [
    "count = battiest.pivot(index='years', columns='commonName').fillna(0)\n",
    "count.reset_index()\n",
    "count.columns\n",
    "\n",
    "count.plot(kind='line', figsize=(16,12))\n",
    "plt.title('Bat Population of the UK over time, by decade', fontsize=20, color='Blue')\n",
    "plt.xlabel('Years by decade')\n",
    "plt.ylabel('Total Count')\n"
   ]
  },
  {
   "cell_type": "markdown",
   "metadata": {},
   "source": [
    "****Beginning building a map for the overview of the bats in the UK, this is shown in the report for TMA02****"
   ]
  },
  {
   "cell_type": "code",
   "execution_count": null,
   "metadata": {
    "collapsed": false,
    "run_control": {
     "read_only": false
    }
   },
   "outputs": [],
   "source": [
    "# The create_map() saves an HTML representation of the map object to the specified file.\n",
    "# (You can open this file in your browser as well as it displaying directly in the Notebook.)\n",
    "# This will not display a map if your are offline. A network connection is required to \n",
    "# retrieve the map tiles.\n",
    "\n",
    "# Once you've run this cell, and the map is rendered below, you'll see, \n",
    "# if you put your mouse over it and scroll, that it is zoomable.\n",
    "\n",
    "map_TMA = folium.Map(location=[55.3781,3.4360], width=960, height=500, zoom_start=5, max_zoom=16)\n",
    "\n",
    "map_TMA.create_map(path='data/TMA.html')\n",
    "\n",
    "#  Due to a bug in the current version of folium, the following line is needed to force\n",
    "#  the named map to be displayed in the output cell. \n",
    "map_TMA.render_iframe = True\n",
    "\n",
    "# This is the standard Notebook way of displaying the last object named in the cell.\n",
    "# It's a map object.\n",
    "map_TMA"
   ]
  },
  {
   "cell_type": "markdown",
   "metadata": {},
   "source": [
    "****Bringing in latitude and longitude as described below****"
   ]
  },
  {
   "cell_type": "code",
   "execution_count": null,
   "metadata": {
    "collapsed": false,
    "run_control": {
     "read_only": false
    }
   },
   "outputs": [],
   "source": [
    "#Reading in the first five rows of converted latitude and longitude data using the head() command.\n",
    "#I converted the latitude and longitude in the grid-refs-to-lat-lon notebook and added them to a csv \n",
    "#file data/latlong.csv(manually)\n",
    "coord_df = pd.read_csv('data/latlong.csv')\n",
    "coord_df.head()"
   ]
  },
  {
   "cell_type": "code",
   "execution_count": null,
   "metadata": {
    "collapsed": false,
    "run_control": {
     "read_only": false
    }
   },
   "outputs": [],
   "source": [
    "df2 = pd.read_csv('data/greybats.csv')\n",
    "df2"
   ]
  },
  {
   "cell_type": "code",
   "execution_count": null,
   "metadata": {
    "collapsed": false,
    "run_control": {
     "read_only": false
    }
   },
   "outputs": [],
   "source": [
    "#add markers, one for bats in each area \n",
    "# creating a marker for each.\n",
    "for i in range(df2.shape[0]):\n",
    "    (lat, long) = df2.ix[i,['latitude','longitude']]\n",
    "    map_TMA.polygon_marker(location=[lat, long], radius=5,\n",
    "                              popup='Area with bats.', \n",
    "                              line_color='blue', fill_color='#132b5e', \n",
    "                               fill_opacity=0.5)\n",
    "\n",
    "map_TMA.render_iframe = True\n",
    "# This will not display a map if your are offline. \n",
    "map_TMA.create_map(path='data/greybats.html')\n",
    "map_TMA"
   ]
  },
  {
   "cell_type": "code",
   "execution_count": null,
   "metadata": {
    "collapsed": false,
    "run_control": {
     "read_only": false
    }
   },
   "outputs": [],
   "source": [
    "coord_df.columns"
   ]
  },
  {
   "cell_type": "markdown",
   "metadata": {},
   "source": [
    "****Adding the bat name so I can put them on a pop-up on the map****"
   ]
  },
  {
   "cell_type": "code",
   "execution_count": null,
   "metadata": {
    "collapsed": false,
    "run_control": {
     "read_only": false
    }
   },
   "outputs": [],
   "source": [
    "coord_df['name']= hib_df['commonName']\n",
    "coord_df.columns"
   ]
  },
  {
   "cell_type": "code",
   "execution_count": null,
   "metadata": {
    "collapsed": false,
    "run_control": {
     "read_only": false
    }
   },
   "outputs": [],
   "source": [
    "# Looping to add map data:\n",
    "for i in range(coord_df.shape[0]):\n",
    "    (lat, long) = coord_df.ix[i,['Latitude','Longitude']]\n",
    "    print(lat, long, 'Area with bats.')"
   ]
  },
  {
   "cell_type": "markdown",
   "metadata": {
    "collapsed": true,
    "run_control": {
     "read_only": false
    }
   },
   "source": [
    "****Initial testing****"
   ]
  },
  {
   "cell_type": "code",
   "execution_count": null,
   "metadata": {
    "collapsed": false,
    "run_control": {
     "read_only": false
    }
   },
   "outputs": [],
   "source": [
    "#add markers, one for bats in each area \n",
    "# creating a marker for each.\n",
    "for i in range(coord_df.shape[0]):\n",
    "    (lat, long) = coord_df.ix[i,['Latitude','Longitude']]\n",
    "    map_TMA.polygon_marker(location=[lat, long], radius=5,\n",
    "                              popup='Area with bats.', \n",
    "                              line_color='blue', fill_color='#132b5e', \n",
    "                               fill_opacity=0.5)\n",
    "\n",
    "map_TMA.render_iframe = True\n",
    "# This will not display a map if your are offline. \n",
    "map_TMA.create_map(path='data/bats.html')\n",
    "map_TMA"
   ]
  },
  {
   "cell_type": "markdown",
   "metadata": {},
   "source": [
    "****The map of bats in the UK with pop-ups of the names. For the EMA this will be improved****"
   ]
  },
  {
   "cell_type": "code",
   "execution_count": null,
   "metadata": {
    "collapsed": false,
    "run_control": {
     "read_only": false
    }
   },
   "outputs": [],
   "source": [
    "# let's use the pop-up string on simple_markers to report number of bats.\n",
    "#add markers, one for bats in each area \n",
    "# creating a marker for each.\n",
    "for i in range(coord_df.shape[0]):\n",
    "    Bats = coord_df['name'][i]\n",
    "    Popstring = ('Bat Type ' + Bats)\n",
    "    (lat, long) = coord_df.ix[i,['Latitude','Longitude']]\n",
    "    map_TMA.simple_marker(location=[lat, long], popup=Popstring)\n",
    "map_TMA.render_iframe = True\n",
    "# This will not display a map if your are offline. \n",
    "map_TMA.create_map(path='data/bats.html')\n",
    "map_TMA\n"
   ]
  },
  {
   "cell_type": "markdown",
   "metadata": {},
   "source": [
    "****This section is for the EMA mainly, but is still useful for continuing this investigation. It is not complete yet****"
   ]
  },
  {
   "cell_type": "code",
   "execution_count": null,
   "metadata": {
    "collapsed": false,
    "run_control": {
     "read_only": false
    }
   },
   "outputs": [],
   "source": [
    "import matplotlib.patches as mpatches\n",
    "# We're going to build the legend patch list one element at a time;\n",
    "# it starts empty.\n",
    "legendpatch_list = []\n",
    "colours = {'Soprano Pipistrelle':'red', 'Common Pipistrelle':'red', \"Brandt's Bat\":'red',\n",
    "       'Western Barbastelle':'red', 'Pipistrelle':'red', 'Brown Long-eared Bat':'red',\n",
    "       \"Daubenton's Bat\":'red', 'Bat':'red', 'Serotine':'red', 'Greater Horseshoe Bat':'red',\n",
    "       'Grey Long-eared Bat':'red', 'Long-eared Bat species':'red',\n",
    "       'Lesser Horseshoe Bat':'red', \"Bechstein's Bat\":'red', \"Whiskered/Brandt's Bat\":'red',\n",
    "       \"Natterer's Bat\":'red', 'Mouse-eared Bat':'red', 'Lesser Noctule':'red',\n",
    "       'Whiskered Bat':'red', 'Myotis Bat species':'red', 'Noctule Bat':'red'}\n",
    "# We want to loop for each Region\n",
    "grouped = newer_df.groupby('commonName')\n",
    "for key, group in grouped:\n",
    "    \n",
    "#for key, group in newer_df:\n",
    "    # for each type create the legend patch\n",
    "    legendpatch_list = legendpatch_list+([mpatches.Patch(color=colours[key], label=key)]) \n",
    "\n",
    "group.plot.scatter(ax=ax,x='years', y='Count', s=(group['Count']), c=colours[key])\n",
    "#can't use common name on y because it isn't numeric you idiot"
   ]
  },
  {
   "cell_type": "code",
   "execution_count": null,
   "metadata": {
    "collapsed": true,
    "run_control": {
     "read_only": false
    }
   },
   "outputs": [],
   "source": [
    "import matplotlib.patches as mpatches\n",
    "# We're going to build the legend patch list one element at a time;\n",
    "# it starts empty.\n",
    "legendpatch_list = []\n",
    "colours = {'Soprano Pipistrelle':'red', 'Common Pipistrelle':'red', \"Brandt's Bat\":'red',\n",
    "       'Western Barbastelle':'red', 'Pipistrelle':'red', 'Brown Long-eared Bat':'red',\n",
    "       \"Daubenton's Bat\":'red', 'Bat':'red', 'Serotine':'red', 'Greater Horseshoe Bat':'red',\n",
    "       'Grey Long-eared Bat':'red', 'Long-eared Bat species':'red',\n",
    "       'Lesser Horseshoe Bat':'red', \"Bechstein's Bat\":'red', \"Whiskered/Brandt's Bat\":'red',\n",
    "       \"Natterer's Bat\":'red', 'Mouse-eared Bat':'red', 'Lesser Noctule':'red',\n",
    "       'Whiskered Bat':'red', 'Myotis Bat species':'red', 'Noctule Bat':'red'}\n",
    "# We want to loop for each Region\n",
    "#grouped = tidyfull_df.groupby('Region')\n",
    "#for key, group in grouped:\n",
    "for key in colours:\n",
    "    # for each type create the legend patch\n",
    "    legendpatch_list = legendpatch_list+([mpatches.Patch(color=colours[key], label=key)]) \n",
    "legendpatch_list\n",
    "plt.scatter(newer_df.years, newer_df.Count, s=newer_df.Count, c=colours[key])\n",
    "#can't use common name on y because it isn't numeric you idiot"
   ]
  },
  {
   "cell_type": "code",
   "execution_count": null,
   "metadata": {
    "collapsed": false,
    "run_control": {
     "read_only": false
    }
   },
   "outputs": [],
   "source": [
    "newer_df = new_df[['commonName','years','Count']]"
   ]
  },
  {
   "cell_type": "code",
   "execution_count": null,
   "metadata": {
    "collapsed": false,
    "run_control": {
     "read_only": false
    }
   },
   "outputs": [],
   "source": [
    "newer_df.columns"
   ]
  },
  {
   "cell_type": "code",
   "execution_count": null,
   "metadata": {
    "collapsed": false,
    "run_control": {
     "read_only": false
    }
   },
   "outputs": [],
   "source": [
    "hmmm = battier.reset_index()\n",
    "hmmm.columns"
   ]
  },
  {
   "cell_type": "code",
   "execution_count": null,
   "metadata": {
    "collapsed": false,
    "run_control": {
     "read_only": false
    }
   },
   "outputs": [],
   "source": [
    "hmmm.plot.scatter(x='years', y='Count', c='Count')"
   ]
  },
  {
   "cell_type": "code",
   "execution_count": null,
   "metadata": {
    "collapsed": false,
    "run_control": {
     "read_only": false
    }
   },
   "outputs": [],
   "source": [
    "grouped = newer_df.groupby(['commonName', 'years'])\n",
    "grouped.reset_index()\n",
    "grouped .plot.scatter(x='years', y='Count', logx=True,\n",
    "                         s=(grouped['Count']))"
   ]
  },
  {
   "cell_type": "code",
   "execution_count": null,
   "metadata": {
    "collapsed": false,
    "run_control": {
     "read_only": false
    }
   },
   "outputs": [],
   "source": [
    "# plt.subplots() creates a plotting object that can accept \n",
    "# multiple plots, this is embedded in a single figure.\n",
    "fig, ax = plt.subplots()\n",
    "\n",
    "#This should work, don't cnahge\n",
    "\n",
    "# Set up the colour dict for each region:\n",
    "\n",
    "colours = {'Soprano Pipistrelle':'red', 'Common Pipistrelle':'red', \"Brandt's Bat\":'red',\n",
    "       'Western Barbastelle':'red', 'Pipistrelle':'red', 'Brown Long-eared Bat':'red',\n",
    "       \"Daubenton's Bat\":'red', 'Bat':'red', 'Serotine':'red', 'Greater Horseshoe Bat':'red',\n",
    "       'Grey Long-eared Bat':'red', 'Long-eared Bat species':'red',\n",
    "       'Lesser Horseshoe Bat':'red', \"Bechstein's Bat\":'red', \"Whiskered/Brandt's Bat\":'red',\n",
    "       \"Natterer's Bat\":'red', 'Mouse-eared Bat':'red', 'Lesser Noctule':'red',\n",
    "       'Whiskered Bat':'red', 'Myotis Bat species':'red', 'Noctule Bat':'red'}\n",
    "\n",
    "# We're going to be responsibile for our own legend, so we need \n",
    "# mpatches again.\n",
    "import matplotlib.patches as mpatches\n",
    "# We're going to build the legend patch list one element at a time;\n",
    "# it starts empty.\n",
    "legendpatch_list = []\n",
    "\n",
    "# We want to loop for each Region\n",
    "#grouped = tidyfull_df.groupby('Region')\n",
    "#for key, group in grouped:\n",
    "for key, group in grouped:\n",
    "    # for each typecreate the legend patch\n",
    "    legendpatch_list = legendpatch_list+([mpatches.Patch(color=colours[key], label=key)]) \n",
    "    # and plot the data, explicitly telling plot() that the \n",
    "    # axes object to plot on is the same axes object created \n",
    "    # using the .subplot() so, ax=ax is used each time.\n",
    "    grouped.plot.scatter(ax=ax,x='years', y='Count',\n",
    "                       logx=True,\n",
    "                       s=(group['commonName']),\n",
    "                        c=colours[key],\n",
    "                        ylim=[35,90],\n",
    "                        figsize=(8,5))\n",
    "    \n",
    "#plt.xticks(['1960','1970','1980','1990','2000','2010','2020'])             \n",
    "\n",
    "# The original x and y axes labels:\n",
    "plt.xlabel('Years by decade')\n",
    "plt.ylabel('Total Count')\n",
    "\n",
    "plt.savefig('data/batscrazy.png', dpi=200)"
   ]
  },
  {
   "cell_type": "markdown",
   "metadata": {},
   "source": [
    "****Weather data exploration to be used for EMA****"
   ]
  },
  {
   "cell_type": "code",
   "execution_count": null,
   "metadata": {
    "collapsed": false,
    "run_control": {
     "read_only": false
    }
   },
   "outputs": [],
   "source": [
    "#Reading in the weather data over the period and concatenating it.\n",
    "london_df = pd.read_csv('data/London Weatherdata/LondonWeather2005.csv', usecols = ['GMT', 'Mean TemperatureC', 'Precipitationmm'])\n",
    "london_df1 = pd.read_csv('data/LondonWeatherdata/LondonWeather2010.csv', usecols = ['GMT', 'Mean TemperatureC', 'Precipitationmm'])\n",
    "london_df2 = pd.read_csv('data/LondonWeatherdata/LondonWeather2015.csv', usecols = ['GMT', 'Mean TemperatureC', 'Precipitationmm'])"
   ]
  },
  {
   "cell_type": "code",
   "execution_count": null,
   "metadata": {
    "collapsed": false,
    "run_control": {
     "read_only": false
    }
   },
   "outputs": [],
   "source": [
    "#Concatenating\n",
    "frames = [london_df, london_df1, london_df2]\n",
    "result = pd.concat(frames).fillna(0)\n",
    "result['GMT']= pd.to_datetime(result['GMT']).dt.year\n",
    "result.head()"
   ]
  },
  {
   "cell_type": "code",
   "execution_count": null,
   "metadata": {
    "collapsed": false,
    "run_control": {
     "read_only": false
    }
   },
   "outputs": [],
   "source": [
    "#Grouping to plot\n",
    "result_grouped = result.groupby(['GMT'])['Mean TemperatureC','Precipitationmm'].mean()\n",
    "result_grouped.plot.bar(subplots=True, figsize=(10,10))"
   ]
  },
  {
   "cell_type": "code",
   "execution_count": null,
   "metadata": {
    "collapsed": true,
    "run_control": {
     "read_only": false
    }
   },
   "outputs": [],
   "source": [
    "#Reading in the weather data over the period and concatenating it.\n",
    "leeds_df = pd.read_csv('data/LeedsWeatherdata/LeedsWeather2001.csv', usecols = ['GMT', 'Mean TemperatureC', 'Precipitationmm'])\n",
    "leeds_df1 = pd.read_csv('data/LeedsWeatherdata/LeedsWeather2009.csv', usecols = ['GMT', 'Mean TemperatureC', 'Precipitationmm'])\n",
    "leeds_df2 = pd.read_csv('data/LeedsWeatherdata/LeedsWeather2015.csv', usecols = ['GMT', 'Mean TemperatureC', 'Precipitationmm'])"
   ]
  },
  {
   "cell_type": "code",
   "execution_count": null,
   "metadata": {
    "collapsed": false,
    "run_control": {
     "read_only": false
    }
   },
   "outputs": [],
   "source": [
    "#Concatenating\n",
    "frames1 = [leeds_df, leeds_df1, leeds_df2]\n",
    "result1 = pd.concat(frames1).fillna(0)\n",
    "result1['GMT']= pd.to_datetime(result1['GMT']).dt.year\n",
    "result1.head()"
   ]
  },
  {
   "cell_type": "code",
   "execution_count": null,
   "metadata": {
    "collapsed": true,
    "run_control": {
     "read_only": false
    }
   },
   "outputs": [],
   "source": [
    "#Grouping to plot\n",
    "result1_grouped = result1.groupby(['GMT'])['Mean TemperatureC','Precipitationmm'].mean()"
   ]
  },
  {
   "cell_type": "code",
   "execution_count": null,
   "metadata": {
    "collapsed": false,
    "run_control": {
     "read_only": false
    }
   },
   "outputs": [],
   "source": [
    "#plotting Leeds weather fropm 1996 - 2015\n",
    "result1_grouped.plot.bar(subplots=True, figsize=(10,10), color='white')"
   ]
  },
  {
   "cell_type": "code",
   "execution_count": null,
   "metadata": {
    "collapsed": false,
    "run_control": {
     "read_only": false
    }
   },
   "outputs": [],
   "source": [
    "#Reading in the weather data over the period and concatenating it.\n",
    "Manch_df = pd.read_csv('data/ManchesterWeatherdata/ManchesterWeather2001.csv', \n",
    "                       usecols = ['GMT', 'Mean TemperatureC', 'Precipitationmm'])\n",
    "Manch_df1 = pd.read_csv('data/ManchesterWeatherdata/ManchesterWeather2009.csv', \n",
    "                        usecols = ['GMT', 'Mean TemperatureC', 'Precipitationmm'])\n",
    "Manch_df2 = pd.read_csv('data/ManchesterWeatherdata/ManchesterWeather2015.csv', \n",
    "                        usecols = ['GMT', 'Mean TemperatureC', 'Precipitationmm'])"
   ]
  },
  {
   "cell_type": "code",
   "execution_count": null,
   "metadata": {
    "collapsed": false,
    "run_control": {
     "read_only": false
    }
   },
   "outputs": [],
   "source": [
    "#Concatenating\n",
    "frames2 = [Manch_df, Manch_df1, Manch_df2]\n",
    "result2 = pd.concat(frames2).fillna(0)\n",
    "result2['GMT']= pd.to_datetime(result2['GMT']).dt.year\n",
    "result2.head()"
   ]
  },
  {
   "cell_type": "code",
   "execution_count": null,
   "metadata": {
    "collapsed": true,
    "run_control": {
     "read_only": false
    }
   },
   "outputs": [],
   "source": [
    "#Grouping to plot\n",
    "result2_grouped = result2.groupby(['GMT'])['Mean TemperatureC','Precipitationmm'].mean()"
   ]
  },
  {
   "cell_type": "code",
   "execution_count": null,
   "metadata": {
    "collapsed": false,
    "run_control": {
     "read_only": false
    }
   },
   "outputs": [],
   "source": [
    "#plotting Leeds weather fropm 1996 - 2015\n",
    "result2_grouped.plot.bar(subplots=True, figsize=(10,10))"
   ]
  },
  {
   "cell_type": "code",
   "execution_count": null,
   "metadata": {
    "collapsed": false,
    "run_control": {
     "read_only": false
    }
   },
   "outputs": [],
   "source": [
    "ax = result_grouped.plot.bar()\n",
    "result1_grouped.plot.bar(ax=ax, figsize=(15,10), color='white')\n",
    "plt.title('London and Leeds weather over time from 2001 to 2015', fontsize=20, color='Blue')"
   ]
  },
  {
   "cell_type": "markdown",
   "metadata": {
    "collapsed": true
   },
   "source": [
    "Having studied the weather data over the period it can be seen that there is a peak in temperature in 2005 for both Leeds and\n",
    "London, although the weather mean temperature in London is higher overall. It can also be seen that at the same time as the\n",
    "temperature increased so did the precipitation. It appears that bats must like warm temperatures though because the \n",
    "overall bat population increased in line with the temperature increases, however they may not be big fans of rain because the \n",
    "populations are decreasing in line with the increases in precipitation. I attempted to plot Cardiff, Manchester and Bristol data, \n",
    "but apparently it didn't rain over the period which I think is highly unlikely. However they followed the same temperature trends \n",
    "as London and Leeds. There was also the issue of no records for weather for earlier years which made the results a guide only.\n"
   ]
  }
 ],
 "metadata": {
  "kernelspec": {
   "display_name": "Python 3",
   "language": "python",
   "name": "python3"
  },
  "language_info": {
   "codemirror_mode": {
    "name": "ipython",
    "version": 3
   },
   "file_extension": ".py",
   "mimetype": "text/x-python",
   "name": "python",
   "nbconvert_exporter": "python",
   "pygments_lexer": "ipython3",
   "version": "3.4.3"
  }
 },
 "nbformat": 4,
 "nbformat_minor": 0
}
