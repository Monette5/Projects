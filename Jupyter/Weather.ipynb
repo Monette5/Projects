{
 "cells": [
  {
   "cell_type": "code",
   "execution_count": null,
   "metadata": {
    "collapsed": true,
    "run_control": {
     "read_only": false
    }
   },
   "outputs": [],
   "source": [
    "import pymongo\n",
    "import datetime\n",
    "import collections\n",
    "from numpy import nan as NA\n",
    "import matplotlib as mpl\n",
    "import matplotlib.pyplot as plt\n",
    "%matplotlib inline\n",
    "import seaborn as sns\n",
    "import folium\n",
    "import numpy as np\n",
    "import pandas as pd\n",
    "import scipy.stats\n",
    "import psycopg2 as pg\n",
    "import pandas as pd\n",
    "import pandas.io.sql as psqlg"
   ]
  },
  {
   "cell_type": "code",
   "execution_count": null,
   "metadata": {
    "collapsed": true,
    "run_control": {
     "read_only": false
    }
   },
   "outputs": [],
   "source": [
    "#Reading in the weather data over the period and concatenating it.\n",
    "london_df = pd.read_csv('data/LondonWeatherdata/LondonWeather2005.csv', usecols = ['GMT', 'Mean TemperatureC', 'Precipitationmm'])\n",
    "london_df1 = pd.read_csv('data/LondonWeatherdata/LondonWeather2010.csv', usecols = ['GMT', 'Mean TemperatureC', 'Precipitationmm'])\n",
    "london_df2 = pd.read_csv('data/LondonWeatherdata/LondonWeather2015.csv', usecols = ['GMT', 'Mean TemperatureC', 'Precipitationmm'])"
   ]
  },
  {
   "cell_type": "code",
   "execution_count": null,
   "metadata": {
    "collapsed": true,
    "run_control": {
     "read_only": false
    }
   },
   "outputs": [],
   "source": [
    "#Concatenating\n",
    "frames = [london_df, london_df1, london_df2]\n",
    "result = pd.concat(frames).fillna(0)\n",
    "result['GMT']= pd.to_datetime(result['GMT']).dt.year\n",
    "result.head()"
   ]
  },
  {
   "cell_type": "code",
   "execution_count": null,
   "metadata": {
    "collapsed": true,
    "run_control": {
     "read_only": false
    }
   },
   "outputs": [],
   "source": [
    "#Grouping to plot\n",
    "result_grouped = result.groupby(['GMT'])['Mean TemperatureC','Precipitationmm'].mean()\n",
    "result_grouped.plot.bar(subplots=True, figsize=(10,10))"
   ]
  },
  {
   "cell_type": "code",
   "execution_count": null,
   "metadata": {
    "collapsed": true,
    "run_control": {
     "read_only": false
    }
   },
   "outputs": [],
   "source": [
    "#Reading in the weather data over the period and concatenating it.\n",
    "leeds_df = pd.read_csv('data/LeedsWeatherdata/LeedsWeather2001.csv', usecols = ['GMT', 'Mean TemperatureC', 'Precipitationmm'])\n",
    "leeds_df1 = pd.read_csv('data/LeedsWeatherdata/LeedsWeather2009.csv', usecols = ['GMT', 'Mean TemperatureC', 'Precipitationmm'])\n",
    "leeds_df2 = pd.read_csv('data/LeedsWeatherdata/LeedsWeather2015.csv', usecols = ['GMT', 'Mean TemperatureC', 'Precipitationmm'])"
   ]
  },
  {
   "cell_type": "code",
   "execution_count": null,
   "metadata": {
    "collapsed": true,
    "run_control": {
     "read_only": false
    }
   },
   "outputs": [],
   "source": [
    "#Concatenating\n",
    "frames1 = [leeds_df, leeds_df1, leeds_df2]\n",
    "result1 = pd.concat(frames1).fillna(0)\n",
    "result1['GMT']= pd.to_datetime(result1['GMT']).dt.year\n",
    "result1.head()"
   ]
  },
  {
   "cell_type": "code",
   "execution_count": null,
   "metadata": {
    "collapsed": true,
    "run_control": {
     "read_only": false
    }
   },
   "outputs": [],
   "source": [
    "#Grouping to plot\n",
    "result1_grouped = result1.groupby(['GMT'])['Mean TemperatureC','Precipitationmm'].mean()"
   ]
  },
  {
   "cell_type": "code",
   "execution_count": null,
   "metadata": {
    "collapsed": true,
    "run_control": {
     "read_only": false
    }
   },
   "outputs": [],
   "source": [
    "#plotting Leeds weather fropm 1996 - 2015\n",
    "result1_grouped.plot.bar(subplots=True, figsize=(10,10), color='white')"
   ]
  },
  {
   "cell_type": "code",
   "execution_count": null,
   "metadata": {
    "collapsed": true,
    "run_control": {
     "read_only": false
    }
   },
   "outputs": [],
   "source": [
    "#Reading in the weather data over the period and concatenating it.\n",
    "Manch_df = pd.read_csv('data/ManchesterWeatherdata/ManchesterWeather2001.csv', \n",
    "                       usecols = ['GMT', 'Mean TemperatureC', 'Precipitationmm'])\n",
    "Manch_df1 = pd.read_csv('data/ManchesterWeatherdata/ManchesterWeather2009.csv', \n",
    "                        usecols = ['GMT', 'Mean TemperatureC', 'Precipitationmm'])\n",
    "Manch_df2 = pd.read_csv('data/ManchesterWeatherdata/ManchesterWeather2015.csv', \n",
    "                        usecols = ['GMT', 'Mean TemperatureC', 'Precipitationmm'])"
   ]
  },
  {
   "cell_type": "code",
   "execution_count": null,
   "metadata": {
    "collapsed": true,
    "run_control": {
     "read_only": false
    }
   },
   "outputs": [],
   "source": [
    "#Concatenating\n",
    "frames2 = [Manch_df, Manch_df1, Manch_df2]\n",
    "result2 = pd.concat(frames2).fillna(0)\n",
    "result2['GMT']= pd.to_datetime(result2['GMT']).dt.year\n",
    "result2.head()"
   ]
  },
  {
   "cell_type": "code",
   "execution_count": null,
   "metadata": {
    "collapsed": true,
    "run_control": {
     "read_only": false
    }
   },
   "outputs": [],
   "source": [
    "#Grouping to plot\n",
    "result2_grouped = result2.groupby(['GMT'])['Mean TemperatureC','Precipitationmm'].mean()"
   ]
  },
  {
   "cell_type": "code",
   "execution_count": null,
   "metadata": {
    "collapsed": true,
    "run_control": {
     "read_only": false
    }
   },
   "outputs": [],
   "source": [
    "#plotting Leeds weather fropm 1996 - 2015\n",
    "result2_grouped.plot.bar(subplots=True, figsize=(10,10))"
   ]
  },
  {
   "cell_type": "code",
   "execution_count": null,
   "metadata": {
    "collapsed": true,
    "run_control": {
     "read_only": false
    }
   },
   "outputs": [],
   "source": [
    "ax = result_grouped.plot.bar()\n",
    "result1_grouped.plot.bar(ax=ax, figsize=(15,10), color='white')\n",
    "plt.title('London and Leeds weather over time from 2001 to 2015', fontsize=20, color='Blue')"
   ]
  }
 ],
 "metadata": {
  "kernelspec": {
   "display_name": "Python 3",
   "language": "python",
   "name": "python3"
  },
  "language_info": {
   "codemirror_mode": {
    "name": "ipython",
    "version": 3
   },
   "file_extension": ".py",
   "mimetype": "text/x-python",
   "name": "python",
   "nbconvert_exporter": "python",
   "pygments_lexer": "ipython3",
   "version": "3.4.3"
  }
 },
 "nbformat": 4,
 "nbformat_minor": 0
}
